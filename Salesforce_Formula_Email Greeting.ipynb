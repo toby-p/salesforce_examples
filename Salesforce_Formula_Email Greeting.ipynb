{
 "cells": [
  {
   "cell_type": "markdown",
   "metadata": {},
   "source": [
    "# Salesforce Formula\n",
    "## Email Greeting\n",
    "\n",
    "When sending bulk emails to Leads and including a personalised greeting in the email, you want to make sure that the name in Salesforce is in a presentable format to be sent out to a potential customer. This formula will help with this by removing certain bad strings from the name field that you wouldn't want going out in an email. In this case, it removes the strings which are this org's way of capturing missing name information - \"not provided\", \"unknown\", or question marks. For any name which is recorded as one of these options, the formula will return a blank value, so that the greeting appears more professional in the email.\n",
    "\n",
    "### Code\n",
    "\n",
    "<code>\n",
    "IF(ISBLANK( TEXT(Salutation )),\"\", TEXT(Salutation)& \" \") & \n",
    "\n",
    "IF(OR( \n",
    "ISBLANK(FirstName), \n",
    "CONTAINS(FirstName, \"?\") = TRUE, \n",
    "CONTAINS(lower(FirstName), \"unknown\") = TRUE, \n",
    "CONTAINS(lower(FirstName), \"not provided\") = TRUE \n",
    "), \n",
    "\"\", \n",
    "SUBSTITUTE(SUBSTITUTE(FirstName , \".\", \"\"),\"?\",\"\") & \" \") & \n",
    "\n",
    "IF(OR( \n",
    "ISBLANK( LastName ), \n",
    "CONTAINS(LastName , \"?\") = TRUE, \n",
    "CONTAINS(lower(LastName), \"unknown\") = TRUE, \n",
    "CONTAINS(lower(LastName), \"not provided\") = TRUE \n",
    "), \n",
    "\"\", \n",
    "SUBSTITUTE(SUBSTITUTE(LastName, \".\",\"\"),\"?\",\"\"))\n",
    "</code>\n",
    "\n",
    "### Examples\n",
    "\n",
    "#### Example 1\n",
    "><code>Salutation = \"Mr.\"\n",
    "FirstName = \"John\"\n",
    "LastName = \"[Unknown]\"</code>\n",
    "\n",
    "returns:\n",
    "\n",
    "><code>\"Mr. John\"</code>\n",
    "\n",
    "#### Example 2\n",
    "><code>Salutation = \"\"\n",
    "FirstName = \"?\"\n",
    "LastName = \"Smith\"</code>\n",
    "\n",
    "returns:\n",
    "\n",
    "><code>\"Smith\"</code>\n",
    "\n",
    "#### Example 3\n",
    "><code>Salutation = \"Mrs.\"\n",
    "FirstName = \"????\"\n",
    "LastName = \"Davis\"</code>\n",
    "\n",
    "returns:\n",
    "\n",
    "><code>\"Mrs. Davis\"</code>\n",
    "\n"
   ]
  }
 ],
 "metadata": {
  "kernelspec": {
   "display_name": "Python 3",
   "language": "python",
   "name": "python3"
  },
  "language_info": {
   "codemirror_mode": {
    "name": "ipython",
    "version": 3
   },
   "file_extension": ".py",
   "mimetype": "text/x-python",
   "name": "python",
   "nbconvert_exporter": "python",
   "pygments_lexer": "ipython3",
   "version": "3.6.1"
  }
 },
 "nbformat": 4,
 "nbformat_minor": 2
}
