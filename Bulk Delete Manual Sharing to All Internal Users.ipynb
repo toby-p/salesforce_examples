{
 "cells": [
  {
   "cell_type": "markdown",
   "metadata": {},
   "source": [
    "# Bulk Delete Manual Sharing to All Internal Users\n",
    "\n",
    "As a system admin, it can happen that you find yourself looking at a Salesforce org in which lots of records have been manually shared to a group called \"AllInternalUsers\" (see <a href=\"https://success.salesforce.com/answers?id=9063A000000iW4zQAE\" target=\"_blank\">here</a> and <a href=\"https://success.salesforce.com/answers?id=90630000000i1AWAAY\" target=\"_blank\">here</a>). For data protection reasons or to improve user experience, you might find yourself wanting to delete *all* such rules and implement a more systematic sharing schema. This can be frustrating because Salesforce provides no native way of doing this in the point-and-click system admin settings.\n",
    "\n",
    "This example shows a simple process for managing this with a short Python script ..."
   ]
  },
  {
   "cell_type": "code",
   "execution_count": 1,
   "metadata": {
    "collapsed": true
   },
   "outputs": [],
   "source": [
    "from simple_salesforce import Salesforce\n",
    "import json\n",
    "import pandas as pd"
   ]
  },
  {
   "cell_type": "markdown",
   "metadata": {},
   "source": [
    "Load credentials from a locally stored JSON file in the format:\n",
    "\n",
    "<code>{\"username\": \"me@gmail.com\",\n",
    " \"organizationId\": \"00Db0000000dhJlJLNJ\",\n",
    " \"password\": \"password123\",\n",
    " \"security_token\": \"ABCSKNFOQNlknksndkmsdKASNDKNDkn\"}\n",
    "</code>"
   ]
  },
  {
   "cell_type": "code",
   "execution_count": 2,
   "metadata": {
    "collapsed": true
   },
   "outputs": [],
   "source": [
    "credentials = json.load(open(\"./credentials/salesforce_credentials.json\"))"
   ]
  },
  {
   "cell_type": "markdown",
   "metadata": {},
   "source": [
    "Create Salesforce API connection:"
   ]
  },
  {
   "cell_type": "code",
   "execution_count": 3,
   "metadata": {
    "collapsed": true
   },
   "outputs": [],
   "source": [
    "sf = Salesforce(password = credentials[\"password\"],\n",
    "                username = credentials[\"username\"],\n",
    "                organizationId = credentials[\"organizationId\"],\n",
    "                security_token = credentials[\"security_token\"])"
   ]
  },
  {
   "cell_type": "markdown",
   "metadata": {},
   "source": [
    "In this example I will query for manual shares on the Account object, hence I am querying the object called <code>AccountShare</code>.\n",
    "\n",
    "The <code>Share</code> object exists for all objects, so to get shares on a different object just add \"Share\" to the target object name."
   ]
  },
  {
   "cell_type": "code",
   "execution_count": 4,
   "metadata": {},
   "outputs": [
    {
     "data": {
      "text/html": [
       "<div>\n",
       "<style>\n",
       "    .dataframe thead tr:only-child th {\n",
       "        text-align: right;\n",
       "    }\n",
       "\n",
       "    .dataframe thead th {\n",
       "        text-align: left;\n",
       "    }\n",
       "\n",
       "    .dataframe tbody tr th {\n",
       "        vertical-align: top;\n",
       "    }\n",
       "</style>\n",
       "<table border=\"1\" class=\"dataframe\">\n",
       "  <thead>\n",
       "    <tr style=\"text-align: right;\">\n",
       "      <th></th>\n",
       "      <th>Id</th>\n",
       "      <th>AccountId</th>\n",
       "      <th>UserOrGroupId</th>\n",
       "    </tr>\n",
       "  </thead>\n",
       "  <tbody>\n",
       "    <tr>\n",
       "      <th>27131</th>\n",
       "      <td>00rb000009QLQH9AAP</td>\n",
       "      <td>001b000003wOHuJAAW</td>\n",
       "      <td>00Gb0000002Cb2rEAC</td>\n",
       "    </tr>\n",
       "    <tr>\n",
       "      <th>27132</th>\n",
       "      <td>00rb000009ypYeiAAE</td>\n",
       "      <td>001b000003wPNXXAA4</td>\n",
       "      <td>00Gb0000002Cb2rEAC</td>\n",
       "    </tr>\n",
       "    <tr>\n",
       "      <th>27133</th>\n",
       "      <td>00rb000009hkmp7AAA</td>\n",
       "      <td>001b000003wQE8kAAG</td>\n",
       "      <td>00Gb0000002Cb2rEAC</td>\n",
       "    </tr>\n",
       "    <tr>\n",
       "      <th>27134</th>\n",
       "      <td>00r0N0000ATH8goQQD</td>\n",
       "      <td>001b000003zn1N2AAI</td>\n",
       "      <td>00Gb0000002Cb2rEAC</td>\n",
       "    </tr>\n",
       "    <tr>\n",
       "      <th>27135</th>\n",
       "      <td>00rb000009s1bOvAAI</td>\n",
       "      <td>001b000003znAN9AAM</td>\n",
       "      <td>00Gb0000002Cb2rEAC</td>\n",
       "    </tr>\n",
       "  </tbody>\n",
       "</table>\n",
       "</div>"
      ],
      "text/plain": [
       "                       Id           AccountId       UserOrGroupId\n",
       "27131  00rb000009QLQH9AAP  001b000003wOHuJAAW  00Gb0000002Cb2rEAC\n",
       "27132  00rb000009ypYeiAAE  001b000003wPNXXAA4  00Gb0000002Cb2rEAC\n",
       "27133  00rb000009hkmp7AAA  001b000003wQE8kAAG  00Gb0000002Cb2rEAC\n",
       "27134  00r0N0000ATH8goQQD  001b000003zn1N2AAI  00Gb0000002Cb2rEAC\n",
       "27135  00rb000009s1bOvAAI  001b000003znAN9AAM  00Gb0000002Cb2rEAC"
      ]
     },
     "execution_count": 4,
     "metadata": {},
     "output_type": "execute_result"
    }
   ],
   "source": [
    "query = \"\"\"\n",
    "SELECT \n",
    "Id, AccountId, UserOrGroupId\n",
    "FROM AccountShare\n",
    "\"\"\"\n",
    "result = sf.query_all(query)\n",
    "a_s = pd.DataFrame(result['records'])\n",
    "a_s.drop(\"attributes\", axis = 1, inplace = True)\n",
    "a_s.tail()"
   ]
  },
  {
   "cell_type": "markdown",
   "metadata": {},
   "source": [
    "We need the API name for the <code>AllInternalUser</code> group, which can be obtained with the following code:"
   ]
  },
  {
   "cell_type": "code",
   "execution_count": 5,
   "metadata": {},
   "outputs": [
    {
     "data": {
      "text/plain": [
       "'00Gb0000001JX1ZEAW'"
      ]
     },
     "execution_count": 5,
     "metadata": {},
     "output_type": "execute_result"
    }
   ],
   "source": [
    "query = \"\"\"\n",
    "SELECT \n",
    "Id, DeveloperName\n",
    "FROM Group\n",
    "WHERE DeveloperName='AllInternalUsers'\n",
    "\"\"\"\n",
    "result = sf.query_all(query)\n",
    "AIU_id = result[\"records\"][0][\"Id\"]\n",
    "AIU_id"
   ]
  },
  {
   "cell_type": "markdown",
   "metadata": {},
   "source": [
    "We can now filter the DataFrame to find all shares to this group, to get the list of records to delete:"
   ]
  },
  {
   "cell_type": "code",
   "execution_count": 6,
   "metadata": {},
   "outputs": [
    {
     "data": {
      "text/plain": [
       "['00r0N0000AKmlq1QQB',\n",
       " '00r0N0000AQ3aVTQQZ',\n",
       " '00r0N0000AQ5GFKQQ3',\n",
       " '00r0N0000AQ6ygUQQR',\n",
       " '00r0N0000AQ7PHvQQN']"
      ]
     },
     "execution_count": 6,
     "metadata": {},
     "output_type": "execute_result"
    }
   ],
   "source": [
    "shares_to_delete = list(a_s[a_s[\"UserOrGroupId\"].str.contains(AIU_id)][\"Id\"])\n",
    "shares_to_delete[:5]"
   ]
  },
  {
   "cell_type": "markdown",
   "metadata": {},
   "source": [
    "This is the list of IDs for the <code>AccountShares</code> to the <code>AllInternalUser</code> *not* the Accounts themselves.\n",
    "\n",
    "So we can now iterate through the list deleting records from Salesforce:"
   ]
  },
  {
   "cell_type": "code",
   "execution_count": null,
   "metadata": {
    "collapsed": true
   },
   "outputs": [],
   "source": [
    "# Not going to run this as I don't need to in my org!\n",
    "if len(shares_to_delete)>0:\n",
    "    print(\"{} sharing records to delete\".format(len(shares_to_delete)))\n",
    "    \n",
    "    count=0\n",
    "\n",
    "    for share_id in shares_to_delete:\n",
    "\n",
    "        try:\n",
    "            sf.AccountShare.delete(record_id=share_id, raw_response=True)\n",
    "            count+=1\n",
    "        except:\n",
    "            pass\n",
    "\n",
    "    print(\"{} sharing records successfully deleted.\".format(count))\n",
    "\n",
    "else:\n",
    "    print(\"No sharing records found to delete.\")"
   ]
  }
 ],
 "metadata": {
  "kernelspec": {
   "display_name": "Python 3",
   "language": "python",
   "name": "python3"
  },
  "language_info": {
   "codemirror_mode": {
    "name": "ipython",
    "version": 3
   },
   "file_extension": ".py",
   "mimetype": "text/x-python",
   "name": "python",
   "nbconvert_exporter": "python",
   "pygments_lexer": "ipython3",
   "version": "3.6.1"
  }
 },
 "nbformat": 4,
 "nbformat_minor": 2
}
