{
 "cells": [
  {
   "cell_type": "markdown",
   "metadata": {},
   "source": [
    "# Salesforce Formula\n",
    "## Brexit date checker\n",
    "Simple formula to check if the value in a custom date field is from before or after the UK's vote to exit the European Union. If the date was before the vote then the formula returns the text \"Pre-Brexit\"; if after it returns \"Post-Brexit\". The formula is useful for reporting if working in an industry which was heavily affected by the vote (e.g. real estate industry).\n",
    "\n",
    "### Code\n",
    "<code>\n",
    "IF ( Date_Field__c <= DATE(2016,06,23),\n",
    "\"Pre-Brexit\",\n",
    "\"Post-Brexit\")\n",
    "\n",
    "</code>"
   ]
  }
 ],
 "metadata": {
  "kernelspec": {
   "display_name": "Python 3",
   "language": "python",
   "name": "python3"
  },
  "language_info": {
   "codemirror_mode": {
    "name": "ipython",
    "version": 3
   },
   "file_extension": ".py",
   "mimetype": "text/x-python",
   "name": "python",
   "nbconvert_exporter": "python",
   "pygments_lexer": "ipython3",
   "version": "3.6.1"
  }
 },
 "nbformat": 4,
 "nbformat_minor": 2
}
