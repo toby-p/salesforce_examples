{
 "cells": [
  {
   "cell_type": "markdown",
   "metadata": {},
   "source": [
    "# Salesforce Formula\n",
    "## Geographic Region from Country\n",
    "\n",
    "This formula will return a pre-determined geographical region based on the country of the address. Note that to be effective, the country names in the org will all need to be standardised, which might require applying validation rules, or regular maintenance with the data loader. Also if any new country values are captured then the formula will need to be updated to reflect the new values.\n",
    "### Code\n",
    "\n",
    "<code>\n",
    "IF(ISBLANK(Country), \"None\", \n",
    "\n",
    "IF(CONTAINS(\"China:Hong Kong\",Country),\"China/HK\", \n",
    "\n",
    "IF(CONTAINS(\"Bangladesh:Brunei Darussalam:Cambodia:Indonesia:Japan:Korea, South:Macao:Malaysia:Mongolia:Myanmar:Nepal:Philippines:Singapore:Sri Lanka:Taiwan, Province of China:Thailand:Viet Nam\",Country), \"APAC\", \n",
    "\n",
    "IF(CONTAINS(\"Afghanistan:Algeria:Bahrain:Botswana:Egypt:Ghana:India:Iraq:Israel:Jordan:Kazakhstan:Kenya:Kuwait:Kyrgyzstan:Lebanon:Libya:Mauritius:Morocco:Nigeria:Oman:Pakistan:Qatar:Saudi Arabia:Seychelles:South Africa:Tanzania, United Republic of:Tunisia:Uganda:United Arab Emirates:Yemen\", Country), \"MENA\", \n",
    "\n",
    "IF(CONTAINS(\"Albania,Andorra,Austria,Azerbaijan,Belarus,Belgium,Bulgaria,Croatia,Czech Republic,Cyprus,Denmark,Estonia,Finland,France,Germany,Gibraltar,Greece,Iceland,Ireland,Italy,Kazakhstan,Liechtenstein,Luxembourg,Macedonia,Malta,Montenegro,Monaco,Netherlands,Norway,Poland,Portugal,Romania,Russia,Russian Federation,Serbia,Slovakia,Slovenia,Spain,Sweden,Switzerland,Turkey,Ukraine,Uzbekistan\",Country),\"Europe\", \n",
    "\n",
    "IF(CONTAINS(\"Australia:Bahamas:Cayman Islands:Channel Islands:Guernsey:Jersey:New Zealand:Virgin Islands, British\", Country), \"Other\", \n",
    "\n",
    "IF(CONTAINS(\"Antigua & Barbuda:Argentina:Barbados:Bermuda:Brazil:Brasil:Canada:Chile:Colombia:Costa Rica:Grenada:Mexico:Panama:United States:Uruguay:Venezuela\", Country), \"N & S America\", \n",
    "\n",
    "IF(CONTAINS(\"United Kingdom\", Country), \"UK\", \"\" \n",
    "\n",
    "))))))))\n",
    "</code>\n",
    "\n",
    "### Examples\n",
    "\n",
    "#### Example 1\n",
    "><code>Country = \"Slovakia\"</code>\n",
    "\n",
    "returns:\n",
    "\n",
    "><code>\"Europe\"</code>\n",
    "\n",
    "#### Example 2\n",
    "><code>Country = \"United Kingdom\"</code>\n",
    "\n",
    "returns:\n",
    "\n",
    "><code>\"UK\"</code>\n",
    "\n",
    "#### Example 3\n",
    "><code>Country = \"Venezuela\"</code>\n",
    "\n",
    "returns:\n",
    "\n",
    "><code>\"N & S America\"</code>"
   ]
  }
 ],
 "metadata": {
  "kernelspec": {
   "display_name": "Python 3",
   "language": "python",
   "name": "python3"
  },
  "language_info": {
   "codemirror_mode": {
    "name": "ipython",
    "version": 3
   },
   "file_extension": ".py",
   "mimetype": "text/x-python",
   "name": "python",
   "nbconvert_exporter": "python",
   "pygments_lexer": "ipython3",
   "version": "3.6.1"
  }
 },
 "nbformat": 4,
 "nbformat_minor": 2
}
