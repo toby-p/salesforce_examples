{
 "cells": [
  {
   "cell_type": "markdown",
   "metadata": {},
   "source": [
    "# Salesforce Formula\n",
    "## Postcode Area\n",
    "\n",
    "For reporting purposes, this formula will return the first part of a UK formatted postcode.\n",
    "\n",
    "### Code\n",
    "\n",
    "<code>\n",
    "UPPER(LEFT(PostalCode, FIND(\" \", PostalCode)))\n",
    "</code>\n",
    "\n",
    "### Examples\n",
    "\n",
    "#### Example 1\n",
    "><code>PostalCode = \"N1 6RQ\"</code>\n",
    "\n",
    "returns:\n",
    "\n",
    "><code>\"N1\"</code>\n",
    "\n",
    "#### Example 2\n",
    "><code>PostalCode = \"sw1v 1bb\"</code>\n",
    "\n",
    "\n",
    "returns:\n",
    "\n",
    "><code>\"SW1V\"</code>\n",
    "\n",
    "#### Example 3\n",
    "><code>PostalCode = \"b1 1gh\"</code>\n",
    "\n",
    "\n",
    "returns:\n",
    "\n",
    "><code>\"B1\"</code>"
   ]
  },
  {
   "cell_type": "code",
   "execution_count": null,
   "metadata": {
    "collapsed": true
   },
   "outputs": [],
   "source": []
  }
 ],
 "metadata": {
  "kernelspec": {
   "display_name": "Python 3",
   "language": "python",
   "name": "python3"
  },
  "language_info": {
   "codemirror_mode": {
    "name": "ipython",
    "version": 3
   },
   "file_extension": ".py",
   "mimetype": "text/x-python",
   "name": "python",
   "nbconvert_exporter": "python",
   "pygments_lexer": "ipython3",
   "version": "3.6.1"
  }
 },
 "nbformat": 4,
 "nbformat_minor": 2
}
